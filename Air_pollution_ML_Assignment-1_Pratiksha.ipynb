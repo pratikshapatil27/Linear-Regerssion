{
 "cells": [
  {
   "cell_type": "code",
   "execution_count": 1,
   "id": "9a8678fa",
   "metadata": {},
   "outputs": [],
   "source": [
    "import pandas as pd \n",
    "import numpy as np \n",
    "\n",
    "################# Machine Learning ################\n",
    "import statsmodels\n",
    "from statsmodels.stats.anova import anova_lm\n",
    "from statsmodels.stats.outliers_influence import variance_inflation_factor\n",
    "\n",
    "################# Data Visualization ################\n",
    "import seaborn as sns\n",
    "from matplotlib import pyplot as plt\n",
    "%matplotlib inline\n"
   ]
  },
  {
   "cell_type": "markdown",
   "id": "167ca464",
   "metadata": {},
   "source": [
    "# Case Study Of Air Pollution"
   ]
  },
  {
   "cell_type": "markdown",
   "id": "8457cbaa",
   "metadata": {},
   "source": [
    "### Import Data"
   ]
  },
  {
   "cell_type": "code",
   "execution_count": 2,
   "id": "d74e5d57",
   "metadata": {},
   "outputs": [
    {
     "data": {
      "text/html": [
       "<div>\n",
       "<style scoped>\n",
       "    .dataframe tbody tr th:only-of-type {\n",
       "        vertical-align: middle;\n",
       "    }\n",
       "\n",
       "    .dataframe tbody tr th {\n",
       "        vertical-align: top;\n",
       "    }\n",
       "\n",
       "    .dataframe thead th {\n",
       "        text-align: right;\n",
       "    }\n",
       "</style>\n",
       "<table border=\"1\" class=\"dataframe\">\n",
       "  <thead>\n",
       "    <tr style=\"text-align: right;\">\n",
       "      <th></th>\n",
       "      <th>PM10</th>\n",
       "      <th>Pb</th>\n",
       "      <th>Cd</th>\n",
       "      <th>Cu</th>\n",
       "      <th>Cr</th>\n",
       "      <th>Zn</th>\n",
       "      <th>NOx</th>\n",
       "      <th>SO2</th>\n",
       "    </tr>\n",
       "  </thead>\n",
       "  <tbody>\n",
       "    <tr>\n",
       "      <th>0</th>\n",
       "      <td>120.71</td>\n",
       "      <td>2.67</td>\n",
       "      <td>0.01</td>\n",
       "      <td>0.53</td>\n",
       "      <td>0.61</td>\n",
       "      <td>0</td>\n",
       "      <td>84.17</td>\n",
       "      <td>40.37</td>\n",
       "    </tr>\n",
       "    <tr>\n",
       "      <th>1</th>\n",
       "      <td>140.25</td>\n",
       "      <td>3.49</td>\n",
       "      <td>0.02</td>\n",
       "      <td>0.10</td>\n",
       "      <td>0.91</td>\n",
       "      <td>0</td>\n",
       "      <td>88.81</td>\n",
       "      <td>39.48</td>\n",
       "    </tr>\n",
       "    <tr>\n",
       "      <th>2</th>\n",
       "      <td>107.01</td>\n",
       "      <td>1.31</td>\n",
       "      <td>0.01</td>\n",
       "      <td>0.19</td>\n",
       "      <td>0.48</td>\n",
       "      <td>0</td>\n",
       "      <td>81.49</td>\n",
       "      <td>48.29</td>\n",
       "    </tr>\n",
       "    <tr>\n",
       "      <th>3</th>\n",
       "      <td>88.81</td>\n",
       "      <td>0.76</td>\n",
       "      <td>0.00</td>\n",
       "      <td>0.33</td>\n",
       "      <td>0.39</td>\n",
       "      <td>0</td>\n",
       "      <td>61.80</td>\n",
       "      <td>27.42</td>\n",
       "    </tr>\n",
       "    <tr>\n",
       "      <th>4</th>\n",
       "      <td>75.05</td>\n",
       "      <td>0.60</td>\n",
       "      <td>0.00</td>\n",
       "      <td>0.41</td>\n",
       "      <td>1.54</td>\n",
       "      <td>0</td>\n",
       "      <td>48.71</td>\n",
       "      <td>19.23</td>\n",
       "    </tr>\n",
       "    <tr>\n",
       "      <th>...</th>\n",
       "      <td>...</td>\n",
       "      <td>...</td>\n",
       "      <td>...</td>\n",
       "      <td>...</td>\n",
       "      <td>...</td>\n",
       "      <td>...</td>\n",
       "      <td>...</td>\n",
       "      <td>...</td>\n",
       "    </tr>\n",
       "    <tr>\n",
       "      <th>146</th>\n",
       "      <td>40.13</td>\n",
       "      <td>0.10</td>\n",
       "      <td>0.00</td>\n",
       "      <td>0.04</td>\n",
       "      <td>0.09</td>\n",
       "      <td>0</td>\n",
       "      <td>18.88</td>\n",
       "      <td>10.09</td>\n",
       "    </tr>\n",
       "    <tr>\n",
       "      <th>147</th>\n",
       "      <td>40.38</td>\n",
       "      <td>0.10</td>\n",
       "      <td>0.00</td>\n",
       "      <td>0.03</td>\n",
       "      <td>0.09</td>\n",
       "      <td>0</td>\n",
       "      <td>47.56</td>\n",
       "      <td>24.14</td>\n",
       "    </tr>\n",
       "    <tr>\n",
       "      <th>148</th>\n",
       "      <td>31.28</td>\n",
       "      <td>0.11</td>\n",
       "      <td>0.00</td>\n",
       "      <td>0.02</td>\n",
       "      <td>0.05</td>\n",
       "      <td>0</td>\n",
       "      <td>31.53</td>\n",
       "      <td>26.64</td>\n",
       "    </tr>\n",
       "    <tr>\n",
       "      <th>149</th>\n",
       "      <td>52.10</td>\n",
       "      <td>0.48</td>\n",
       "      <td>0.00</td>\n",
       "      <td>0.04</td>\n",
       "      <td>0.06</td>\n",
       "      <td>0</td>\n",
       "      <td>42.08</td>\n",
       "      <td>22.95</td>\n",
       "    </tr>\n",
       "    <tr>\n",
       "      <th>150</th>\n",
       "      <td>27.19</td>\n",
       "      <td>0.02</td>\n",
       "      <td>0.00</td>\n",
       "      <td>0.02</td>\n",
       "      <td>0.03</td>\n",
       "      <td>0</td>\n",
       "      <td>53.29</td>\n",
       "      <td>36.24</td>\n",
       "    </tr>\n",
       "  </tbody>\n",
       "</table>\n",
       "<p>151 rows × 8 columns</p>\n",
       "</div>"
      ],
      "text/plain": [
       "       PM10    Pb    Cd    Cu    Cr  Zn    NOx    SO2\n",
       "0    120.71  2.67  0.01  0.53  0.61   0  84.17  40.37\n",
       "1    140.25  3.49  0.02  0.10  0.91   0  88.81  39.48\n",
       "2    107.01  1.31  0.01  0.19  0.48   0  81.49  48.29\n",
       "3     88.81  0.76  0.00  0.33  0.39   0  61.80  27.42\n",
       "4     75.05  0.60  0.00  0.41  1.54   0  48.71  19.23\n",
       "..      ...   ...   ...   ...   ...  ..    ...    ...\n",
       "146   40.13  0.10  0.00  0.04  0.09   0  18.88  10.09\n",
       "147   40.38  0.10  0.00  0.03  0.09   0  47.56  24.14\n",
       "148   31.28  0.11  0.00  0.02  0.05   0  31.53  26.64\n",
       "149   52.10  0.48  0.00  0.04  0.06   0  42.08  22.95\n",
       "150   27.19  0.02  0.00  0.02  0.03   0  53.29  36.24\n",
       "\n",
       "[151 rows x 8 columns]"
      ]
     },
     "execution_count": 2,
     "metadata": {},
     "output_type": "execute_result"
    }
   ],
   "source": [
    "df=pd.read_excel(r\"C:\\Users\\prati\\Desktop\\Python\\Machine Learning'\\Assignment\\AirPollution.xls\")\n",
    "df=df.drop(['Site','Date','Season'],axis=1)\n",
    "df"
   ]
  },
  {
   "cell_type": "markdown",
   "id": "f41c306d",
   "metadata": {},
   "source": [
    "### Data Type"
   ]
  },
  {
   "cell_type": "code",
   "execution_count": 3,
   "id": "e1de09e6",
   "metadata": {
    "scrolled": false
   },
   "outputs": [
    {
     "name": "stdout",
     "output_type": "stream",
     "text": [
      "<class 'pandas.core.frame.DataFrame'>\n",
      "RangeIndex: 151 entries, 0 to 150\n",
      "Data columns (total 8 columns):\n",
      " #   Column  Non-Null Count  Dtype  \n",
      "---  ------  --------------  -----  \n",
      " 0   PM10    151 non-null    float64\n",
      " 1   Pb      151 non-null    float64\n",
      " 2   Cd      151 non-null    float64\n",
      " 3   Cu      151 non-null    float64\n",
      " 4   Cr      151 non-null    float64\n",
      " 5   Zn      151 non-null    int64  \n",
      " 6   NOx     151 non-null    float64\n",
      " 7   SO2     151 non-null    float64\n",
      "dtypes: float64(7), int64(1)\n",
      "memory usage: 9.6 KB\n"
     ]
    }
   ],
   "source": [
    "df.info()"
   ]
  },
  {
   "cell_type": "markdown",
   "id": "9fa39db3",
   "metadata": {},
   "source": [
    "### Uni-Variate Analysis"
   ]
  },
  {
   "cell_type": "code",
   "execution_count": 4,
   "id": "786a67c4",
   "metadata": {},
   "outputs": [
    {
     "data": {
      "text/html": [
       "<div>\n",
       "<style scoped>\n",
       "    .dataframe tbody tr th:only-of-type {\n",
       "        vertical-align: middle;\n",
       "    }\n",
       "\n",
       "    .dataframe tbody tr th {\n",
       "        vertical-align: top;\n",
       "    }\n",
       "\n",
       "    .dataframe thead th {\n",
       "        text-align: right;\n",
       "    }\n",
       "</style>\n",
       "<table border=\"1\" class=\"dataframe\">\n",
       "  <thead>\n",
       "    <tr style=\"text-align: right;\">\n",
       "      <th></th>\n",
       "      <th>PM10</th>\n",
       "      <th>Pb</th>\n",
       "      <th>Cd</th>\n",
       "      <th>Cu</th>\n",
       "      <th>Cr</th>\n",
       "      <th>Zn</th>\n",
       "      <th>NOx</th>\n",
       "      <th>SO2</th>\n",
       "    </tr>\n",
       "  </thead>\n",
       "  <tbody>\n",
       "    <tr>\n",
       "      <th>count</th>\n",
       "      <td>151.000000</td>\n",
       "      <td>151.000000</td>\n",
       "      <td>151.000000</td>\n",
       "      <td>151.000000</td>\n",
       "      <td>151.000000</td>\n",
       "      <td>151.0</td>\n",
       "      <td>151.000000</td>\n",
       "      <td>151.000000</td>\n",
       "    </tr>\n",
       "    <tr>\n",
       "      <th>mean</th>\n",
       "      <td>68.536026</td>\n",
       "      <td>0.716358</td>\n",
       "      <td>0.000265</td>\n",
       "      <td>0.331854</td>\n",
       "      <td>0.390066</td>\n",
       "      <td>0.0</td>\n",
       "      <td>42.692914</td>\n",
       "      <td>22.359868</td>\n",
       "    </tr>\n",
       "    <tr>\n",
       "      <th>std</th>\n",
       "      <td>40.908548</td>\n",
       "      <td>0.673069</td>\n",
       "      <td>0.001982</td>\n",
       "      <td>0.408259</td>\n",
       "      <td>0.434575</td>\n",
       "      <td>0.0</td>\n",
       "      <td>23.101723</td>\n",
       "      <td>10.393498</td>\n",
       "    </tr>\n",
       "    <tr>\n",
       "      <th>min</th>\n",
       "      <td>16.240000</td>\n",
       "      <td>0.000000</td>\n",
       "      <td>0.000000</td>\n",
       "      <td>0.000000</td>\n",
       "      <td>0.000000</td>\n",
       "      <td>0.0</td>\n",
       "      <td>8.260000</td>\n",
       "      <td>0.000000</td>\n",
       "    </tr>\n",
       "    <tr>\n",
       "      <th>25%</th>\n",
       "      <td>37.005000</td>\n",
       "      <td>0.220000</td>\n",
       "      <td>0.000000</td>\n",
       "      <td>0.040000</td>\n",
       "      <td>0.085000</td>\n",
       "      <td>0.0</td>\n",
       "      <td>25.735000</td>\n",
       "      <td>15.165000</td>\n",
       "    </tr>\n",
       "    <tr>\n",
       "      <th>50%</th>\n",
       "      <td>59.610000</td>\n",
       "      <td>0.570000</td>\n",
       "      <td>0.000000</td>\n",
       "      <td>0.130000</td>\n",
       "      <td>0.230000</td>\n",
       "      <td>0.0</td>\n",
       "      <td>37.000000</td>\n",
       "      <td>20.930000</td>\n",
       "    </tr>\n",
       "    <tr>\n",
       "      <th>75%</th>\n",
       "      <td>89.820000</td>\n",
       "      <td>0.965000</td>\n",
       "      <td>0.000000</td>\n",
       "      <td>0.535000</td>\n",
       "      <td>0.580000</td>\n",
       "      <td>0.0</td>\n",
       "      <td>54.695000</td>\n",
       "      <td>27.420000</td>\n",
       "    </tr>\n",
       "    <tr>\n",
       "      <th>max</th>\n",
       "      <td>194.740000</td>\n",
       "      <td>3.490000</td>\n",
       "      <td>0.020000</td>\n",
       "      <td>1.650000</td>\n",
       "      <td>3.220000</td>\n",
       "      <td>0.0</td>\n",
       "      <td>121.460000</td>\n",
       "      <td>53.270000</td>\n",
       "    </tr>\n",
       "  </tbody>\n",
       "</table>\n",
       "</div>"
      ],
      "text/plain": [
       "             PM10          Pb          Cd          Cu          Cr     Zn  \\\n",
       "count  151.000000  151.000000  151.000000  151.000000  151.000000  151.0   \n",
       "mean    68.536026    0.716358    0.000265    0.331854    0.390066    0.0   \n",
       "std     40.908548    0.673069    0.001982    0.408259    0.434575    0.0   \n",
       "min     16.240000    0.000000    0.000000    0.000000    0.000000    0.0   \n",
       "25%     37.005000    0.220000    0.000000    0.040000    0.085000    0.0   \n",
       "50%     59.610000    0.570000    0.000000    0.130000    0.230000    0.0   \n",
       "75%     89.820000    0.965000    0.000000    0.535000    0.580000    0.0   \n",
       "max    194.740000    3.490000    0.020000    1.650000    3.220000    0.0   \n",
       "\n",
       "              NOx         SO2  \n",
       "count  151.000000  151.000000  \n",
       "mean    42.692914   22.359868  \n",
       "std     23.101723   10.393498  \n",
       "min      8.260000    0.000000  \n",
       "25%     25.735000   15.165000  \n",
       "50%     37.000000   20.930000  \n",
       "75%     54.695000   27.420000  \n",
       "max    121.460000   53.270000  "
      ]
     },
     "execution_count": 4,
     "metadata": {},
     "output_type": "execute_result"
    }
   ],
   "source": [
    "df.describe()"
   ]
  },
  {
   "cell_type": "markdown",
   "id": "fd7a6563",
   "metadata": {},
   "source": [
    "### EDA"
   ]
  },
  {
   "cell_type": "markdown",
   "id": "04877eda",
   "metadata": {},
   "source": [
    "#### Identify and treament of outlier"
   ]
  },
  {
   "cell_type": "code",
   "execution_count": 5,
   "id": "b7b6971d",
   "metadata": {},
   "outputs": [
    {
     "data": {
      "text/plain": [
       "<AxesSubplot:>"
      ]
     },
     "execution_count": 5,
     "metadata": {},
     "output_type": "execute_result"
    },
    {
     "data": {
      "image/png": "[encoded data removed]",
      "text/plain": [
       "<Figure size 432x288 with 1 Axes>"
      ]
     },
     "metadata": {
      "needs_background": "light"
     },
     "output_type": "display_data"
    }
   ],
   "source": [
    "sns.boxplot(data=df)"
   ]
  },
  {
   "cell_type": "code",
   "execution_count": 6,
   "id": "fb07f996",
   "metadata": {},
   "outputs": [
    {
     "data": {
      "text/plain": [
       "Index(['PM10', 'Pb', 'Cd', 'Cu', 'Cr', 'Zn', 'NOx', 'SO2'], dtype='object')"
      ]
     },
     "execution_count": 6,
     "metadata": {},
     "output_type": "execute_result"
    }
   ],
   "source": [
    "df.columns"
   ]
  },
  {
   "cell_type": "markdown",
   "id": "f2cda4be",
   "metadata": {},
   "source": [
    "### Winsorizing Technique- Treatment of outlier"
   ]
  },
  {
   "cell_type": "code",
   "execution_count": 7,
   "id": "2d666e6f",
   "metadata": {},
   "outputs": [
    {
     "name": "stderr",
     "output_type": "stream",
     "text": [
      "C:\\Users\\prati\\AppData\\Local\\Temp/ipykernel_4916/3821370671.py:9: SettingWithCopyWarning: \n",
      "A value is trying to be set on a copy of a slice from a DataFrame\n",
      "\n",
      "See the caveats in the documentation: https://pandas.pydata.org/pandas-docs/stable/user_guide/indexing.html#returning-a-view-versus-a-copy\n",
      "  df[i][df[i]<= lower_limit] = lower_limit\n",
      "C:\\Users\\prati\\AppData\\Local\\Temp/ipykernel_4916/3821370671.py:10: SettingWithCopyWarning: \n",
      "A value is trying to be set on a copy of a slice from a DataFrame\n",
      "\n",
      "See the caveats in the documentation: https://pandas.pydata.org/pandas-docs/stable/user_guide/indexing.html#returning-a-view-versus-a-copy\n",
      "  df[i][df[i]>= upper_limit] = upper_limit\n"
     ]
    },
    {
     "data": {
      "text/html": [
       "<div>\n",
       "<style scoped>\n",
       "    .dataframe tbody tr th:only-of-type {\n",
       "        vertical-align: middle;\n",
       "    }\n",
       "\n",
       "    .dataframe tbody tr th {\n",
       "        vertical-align: top;\n",
       "    }\n",
       "\n",
       "    .dataframe thead th {\n",
       "        text-align: right;\n",
       "    }\n",
       "</style>\n",
       "<table border=\"1\" class=\"dataframe\">\n",
       "  <thead>\n",
       "    <tr style=\"text-align: right;\">\n",
       "      <th></th>\n",
       "      <th>PM10</th>\n",
       "      <th>Pb</th>\n",
       "      <th>Cd</th>\n",
       "      <th>Cu</th>\n",
       "      <th>Cr</th>\n",
       "      <th>Zn</th>\n",
       "      <th>NOx</th>\n",
       "      <th>SO2</th>\n",
       "    </tr>\n",
       "  </thead>\n",
       "  <tbody>\n",
       "    <tr>\n",
       "      <th>0</th>\n",
       "      <td>120.71</td>\n",
       "      <td>2.0825</td>\n",
       "      <td>0.0</td>\n",
       "      <td>0.53</td>\n",
       "      <td>0.6100</td>\n",
       "      <td>0</td>\n",
       "      <td>84.17</td>\n",
       "      <td>40.3700</td>\n",
       "    </tr>\n",
       "    <tr>\n",
       "      <th>1</th>\n",
       "      <td>140.25</td>\n",
       "      <td>2.0825</td>\n",
       "      <td>0.0</td>\n",
       "      <td>0.10</td>\n",
       "      <td>0.9100</td>\n",
       "      <td>0</td>\n",
       "      <td>88.81</td>\n",
       "      <td>39.4800</td>\n",
       "    </tr>\n",
       "    <tr>\n",
       "      <th>2</th>\n",
       "      <td>107.01</td>\n",
       "      <td>1.3100</td>\n",
       "      <td>0.0</td>\n",
       "      <td>0.19</td>\n",
       "      <td>0.4800</td>\n",
       "      <td>0</td>\n",
       "      <td>81.49</td>\n",
       "      <td>45.8025</td>\n",
       "    </tr>\n",
       "    <tr>\n",
       "      <th>3</th>\n",
       "      <td>88.81</td>\n",
       "      <td>0.7600</td>\n",
       "      <td>0.0</td>\n",
       "      <td>0.33</td>\n",
       "      <td>0.3900</td>\n",
       "      <td>0</td>\n",
       "      <td>61.80</td>\n",
       "      <td>27.4200</td>\n",
       "    </tr>\n",
       "    <tr>\n",
       "      <th>4</th>\n",
       "      <td>75.05</td>\n",
       "      <td>0.6000</td>\n",
       "      <td>0.0</td>\n",
       "      <td>0.41</td>\n",
       "      <td>1.3225</td>\n",
       "      <td>0</td>\n",
       "      <td>48.71</td>\n",
       "      <td>19.2300</td>\n",
       "    </tr>\n",
       "    <tr>\n",
       "      <th>...</th>\n",
       "      <td>...</td>\n",
       "      <td>...</td>\n",
       "      <td>...</td>\n",
       "      <td>...</td>\n",
       "      <td>...</td>\n",
       "      <td>...</td>\n",
       "      <td>...</td>\n",
       "      <td>...</td>\n",
       "    </tr>\n",
       "    <tr>\n",
       "      <th>146</th>\n",
       "      <td>40.13</td>\n",
       "      <td>0.1000</td>\n",
       "      <td>0.0</td>\n",
       "      <td>0.04</td>\n",
       "      <td>0.0900</td>\n",
       "      <td>0</td>\n",
       "      <td>18.88</td>\n",
       "      <td>10.0900</td>\n",
       "    </tr>\n",
       "    <tr>\n",
       "      <th>147</th>\n",
       "      <td>40.38</td>\n",
       "      <td>0.1000</td>\n",
       "      <td>0.0</td>\n",
       "      <td>0.03</td>\n",
       "      <td>0.0900</td>\n",
       "      <td>0</td>\n",
       "      <td>47.56</td>\n",
       "      <td>24.1400</td>\n",
       "    </tr>\n",
       "    <tr>\n",
       "      <th>148</th>\n",
       "      <td>31.28</td>\n",
       "      <td>0.1100</td>\n",
       "      <td>0.0</td>\n",
       "      <td>0.02</td>\n",
       "      <td>0.0500</td>\n",
       "      <td>0</td>\n",
       "      <td>31.53</td>\n",
       "      <td>26.6400</td>\n",
       "    </tr>\n",
       "    <tr>\n",
       "      <th>149</th>\n",
       "      <td>52.10</td>\n",
       "      <td>0.4800</td>\n",
       "      <td>0.0</td>\n",
       "      <td>0.04</td>\n",
       "      <td>0.0600</td>\n",
       "      <td>0</td>\n",
       "      <td>42.08</td>\n",
       "      <td>22.9500</td>\n",
       "    </tr>\n",
       "    <tr>\n",
       "      <th>150</th>\n",
       "      <td>27.19</td>\n",
       "      <td>0.0200</td>\n",
       "      <td>0.0</td>\n",
       "      <td>0.02</td>\n",
       "      <td>0.0300</td>\n",
       "      <td>0</td>\n",
       "      <td>53.29</td>\n",
       "      <td>36.2400</td>\n",
       "    </tr>\n",
       "  </tbody>\n",
       "</table>\n",
       "<p>151 rows × 8 columns</p>\n",
       "</div>"
      ],
      "text/plain": [
       "       PM10      Pb   Cd    Cu      Cr  Zn    NOx      SO2\n",
       "0    120.71  2.0825  0.0  0.53  0.6100   0  84.17  40.3700\n",
       "1    140.25  2.0825  0.0  0.10  0.9100   0  88.81  39.4800\n",
       "2    107.01  1.3100  0.0  0.19  0.4800   0  81.49  45.8025\n",
       "3     88.81  0.7600  0.0  0.33  0.3900   0  61.80  27.4200\n",
       "4     75.05  0.6000  0.0  0.41  1.3225   0  48.71  19.2300\n",
       "..      ...     ...  ...   ...     ...  ..    ...      ...\n",
       "146   40.13  0.1000  0.0  0.04  0.0900   0  18.88  10.0900\n",
       "147   40.38  0.1000  0.0  0.03  0.0900   0  47.56  24.1400\n",
       "148   31.28  0.1100  0.0  0.02  0.0500   0  31.53  26.6400\n",
       "149   52.10  0.4800  0.0  0.04  0.0600   0  42.08  22.9500\n",
       "150   27.19  0.0200  0.0  0.02  0.0300   0  53.29  36.2400\n",
       "\n",
       "[151 rows x 8 columns]"
      ]
     },
     "execution_count": 7,
     "metadata": {},
     "output_type": "execute_result"
    }
   ],
   "source": [
    "def treat_outliers(df):\n",
    "    for i in df.columns:    \n",
    "        q1=df[i].quantile(0.25)\n",
    "        q3=df[i].quantile(0.75)\n",
    "        iqr=q3-q1\n",
    "        upper_limit=q3+1.5*iqr\n",
    "        lower_limit=q1-1.5*iqr\n",
    "        if ((df[i].dtype=='float64') | (df[i].dtype=='int64')):\n",
    "            df[i][df[i]<= lower_limit] = lower_limit\n",
    "            df[i][df[i]>= upper_limit] = upper_limit\n",
    "        else:\n",
    "            df[i]=df[i]\n",
    "    return df\n",
    "        \n",
    "treat_outliers(df)    "
   ]
  },
  {
   "cell_type": "code",
   "execution_count": 8,
   "id": "98c892b1",
   "metadata": {},
   "outputs": [
    {
     "data": {
      "text/plain": [
       "<AxesSubplot:>"
      ]
     },
     "execution_count": 8,
     "metadata": {},
     "output_type": "execute_result"
    },
    {
     "data": {
      "image/png": "[encoded data removed]",
      "text/plain": [
       "<Figure size 432x288 with 1 Axes>"
      ]
     },
     "metadata": {
      "needs_background": "light"
     },
     "output_type": "display_data"
    }
   ],
   "source": [
    "sns.boxplot(data=df)"
   ]
  },
  {
   "cell_type": "code",
   "execution_count": 9,
   "id": "978788f9",
   "metadata": {},
   "outputs": [
    {
     "data": {
      "text/html": [
       "<div>\n",
       "<style scoped>\n",
       "    .dataframe tbody tr th:only-of-type {\n",
       "        vertical-align: middle;\n",
       "    }\n",
       "\n",
       "    .dataframe tbody tr th {\n",
       "        vertical-align: top;\n",
       "    }\n",
       "\n",
       "    .dataframe thead th {\n",
       "        text-align: right;\n",
       "    }\n",
       "</style>\n",
       "<table border=\"1\" class=\"dataframe\">\n",
       "  <thead>\n",
       "    <tr style=\"text-align: right;\">\n",
       "      <th></th>\n",
       "      <th>PM10</th>\n",
       "      <th>Pb</th>\n",
       "      <th>Cd</th>\n",
       "      <th>Cu</th>\n",
       "      <th>Cr</th>\n",
       "      <th>Zn</th>\n",
       "      <th>NOx</th>\n",
       "      <th>SO2</th>\n",
       "    </tr>\n",
       "  </thead>\n",
       "  <tbody>\n",
       "    <tr>\n",
       "      <th>count</th>\n",
       "      <td>151.00000</td>\n",
       "      <td>151.000000</td>\n",
       "      <td>151.0</td>\n",
       "      <td>151.000000</td>\n",
       "      <td>151.000000</td>\n",
       "      <td>151.0</td>\n",
       "      <td>151.000000</td>\n",
       "      <td>151.000000</td>\n",
       "    </tr>\n",
       "    <tr>\n",
       "      <th>mean</th>\n",
       "      <td>68.06856</td>\n",
       "      <td>0.679983</td>\n",
       "      <td>0.0</td>\n",
       "      <td>0.327053</td>\n",
       "      <td>0.372848</td>\n",
       "      <td>0.0</td>\n",
       "      <td>42.501755</td>\n",
       "      <td>22.226656</td>\n",
       "    </tr>\n",
       "    <tr>\n",
       "      <th>std</th>\n",
       "      <td>39.61346</td>\n",
       "      <td>0.560941</td>\n",
       "      <td>0.0</td>\n",
       "      <td>0.395327</td>\n",
       "      <td>0.361985</td>\n",
       "      <td>0.0</td>\n",
       "      <td>22.551657</td>\n",
       "      <td>10.049931</td>\n",
       "    </tr>\n",
       "    <tr>\n",
       "      <th>min</th>\n",
       "      <td>16.24000</td>\n",
       "      <td>0.000000</td>\n",
       "      <td>0.0</td>\n",
       "      <td>0.000000</td>\n",
       "      <td>0.000000</td>\n",
       "      <td>0.0</td>\n",
       "      <td>8.260000</td>\n",
       "      <td>0.000000</td>\n",
       "    </tr>\n",
       "    <tr>\n",
       "      <th>25%</th>\n",
       "      <td>37.00500</td>\n",
       "      <td>0.220000</td>\n",
       "      <td>0.0</td>\n",
       "      <td>0.040000</td>\n",
       "      <td>0.085000</td>\n",
       "      <td>0.0</td>\n",
       "      <td>25.735000</td>\n",
       "      <td>15.165000</td>\n",
       "    </tr>\n",
       "    <tr>\n",
       "      <th>50%</th>\n",
       "      <td>59.61000</td>\n",
       "      <td>0.570000</td>\n",
       "      <td>0.0</td>\n",
       "      <td>0.130000</td>\n",
       "      <td>0.230000</td>\n",
       "      <td>0.0</td>\n",
       "      <td>37.000000</td>\n",
       "      <td>20.930000</td>\n",
       "    </tr>\n",
       "    <tr>\n",
       "      <th>75%</th>\n",
       "      <td>89.82000</td>\n",
       "      <td>0.965000</td>\n",
       "      <td>0.0</td>\n",
       "      <td>0.535000</td>\n",
       "      <td>0.580000</td>\n",
       "      <td>0.0</td>\n",
       "      <td>54.695000</td>\n",
       "      <td>27.420000</td>\n",
       "    </tr>\n",
       "    <tr>\n",
       "      <th>max</th>\n",
       "      <td>169.04250</td>\n",
       "      <td>2.082500</td>\n",
       "      <td>0.0</td>\n",
       "      <td>1.277500</td>\n",
       "      <td>1.322500</td>\n",
       "      <td>0.0</td>\n",
       "      <td>98.135000</td>\n",
       "      <td>45.802500</td>\n",
       "    </tr>\n",
       "  </tbody>\n",
       "</table>\n",
       "</div>"
      ],
      "text/plain": [
       "            PM10          Pb     Cd          Cu          Cr     Zn  \\\n",
       "count  151.00000  151.000000  151.0  151.000000  151.000000  151.0   \n",
       "mean    68.06856    0.679983    0.0    0.327053    0.372848    0.0   \n",
       "std     39.61346    0.560941    0.0    0.395327    0.361985    0.0   \n",
       "min     16.24000    0.000000    0.0    0.000000    0.000000    0.0   \n",
       "25%     37.00500    0.220000    0.0    0.040000    0.085000    0.0   \n",
       "50%     59.61000    0.570000    0.0    0.130000    0.230000    0.0   \n",
       "75%     89.82000    0.965000    0.0    0.535000    0.580000    0.0   \n",
       "max    169.04250    2.082500    0.0    1.277500    1.322500    0.0   \n",
       "\n",
       "              NOx         SO2  \n",
       "count  151.000000  151.000000  \n",
       "mean    42.501755   22.226656  \n",
       "std     22.551657   10.049931  \n",
       "min      8.260000    0.000000  \n",
       "25%     25.735000   15.165000  \n",
       "50%     37.000000   20.930000  \n",
       "75%     54.695000   27.420000  \n",
       "max     98.135000   45.802500  "
      ]
     },
     "execution_count": 9,
     "metadata": {},
     "output_type": "execute_result"
    }
   ],
   "source": [
    "df.describe()"
   ]
  },
  {
   "cell_type": "code",
   "execution_count": 10,
   "id": "f4e38533",
   "metadata": {
    "scrolled": true
   },
   "outputs": [
    {
     "data": {
      "text/plain": [
       "PM10    0\n",
       "Pb      0\n",
       "Cd      0\n",
       "Cu      0\n",
       "Cr      0\n",
       "Zn      0\n",
       "NOx     0\n",
       "SO2     0\n",
       "dtype: int64"
      ]
     },
     "execution_count": 10,
     "metadata": {},
     "output_type": "execute_result"
    }
   ],
   "source": [
    "df.isna().sum()"
   ]
  },
  {
   "cell_type": "markdown",
   "id": "0cb54af3",
   "metadata": {},
   "source": [
    "# Splitting the data into trained and test data set"
   ]
  },
  {
   "cell_type": "markdown",
   "id": "acdebd16",
   "metadata": {},
   "source": [
    "* Using sklearn we split 70% of our data into training set and rest in test set.\n",
    "* Setting random_state will give the same training and test set everytime on running the code"
   ]
  },
  {
   "cell_type": "code",
   "execution_count": 11,
   "id": "eed188f0",
   "metadata": {},
   "outputs": [
    {
     "data": {
      "text/html": [
       "<div>\n",
       "<style scoped>\n",
       "    .dataframe tbody tr th:only-of-type {\n",
       "        vertical-align: middle;\n",
       "    }\n",
       "\n",
       "    .dataframe tbody tr th {\n",
       "        vertical-align: top;\n",
       "    }\n",
       "\n",
       "    .dataframe thead th {\n",
       "        text-align: right;\n",
       "    }\n",
       "</style>\n",
       "<table border=\"1\" class=\"dataframe\">\n",
       "  <thead>\n",
       "    <tr style=\"text-align: right;\">\n",
       "      <th></th>\n",
       "      <th>PM10</th>\n",
       "      <th>Pb</th>\n",
       "      <th>Cd</th>\n",
       "      <th>Cu</th>\n",
       "      <th>Cr</th>\n",
       "      <th>Zn</th>\n",
       "      <th>NOx</th>\n",
       "      <th>SO2</th>\n",
       "    </tr>\n",
       "  </thead>\n",
       "  <tbody>\n",
       "    <tr>\n",
       "      <th>0</th>\n",
       "      <td>120.71</td>\n",
       "      <td>2.0825</td>\n",
       "      <td>0.0</td>\n",
       "      <td>0.53</td>\n",
       "      <td>0.6100</td>\n",
       "      <td>0</td>\n",
       "      <td>84.17</td>\n",
       "      <td>40.3700</td>\n",
       "    </tr>\n",
       "    <tr>\n",
       "      <th>1</th>\n",
       "      <td>140.25</td>\n",
       "      <td>2.0825</td>\n",
       "      <td>0.0</td>\n",
       "      <td>0.10</td>\n",
       "      <td>0.9100</td>\n",
       "      <td>0</td>\n",
       "      <td>88.81</td>\n",
       "      <td>39.4800</td>\n",
       "    </tr>\n",
       "    <tr>\n",
       "      <th>2</th>\n",
       "      <td>107.01</td>\n",
       "      <td>1.3100</td>\n",
       "      <td>0.0</td>\n",
       "      <td>0.19</td>\n",
       "      <td>0.4800</td>\n",
       "      <td>0</td>\n",
       "      <td>81.49</td>\n",
       "      <td>45.8025</td>\n",
       "    </tr>\n",
       "    <tr>\n",
       "      <th>3</th>\n",
       "      <td>88.81</td>\n",
       "      <td>0.7600</td>\n",
       "      <td>0.0</td>\n",
       "      <td>0.33</td>\n",
       "      <td>0.3900</td>\n",
       "      <td>0</td>\n",
       "      <td>61.80</td>\n",
       "      <td>27.4200</td>\n",
       "    </tr>\n",
       "    <tr>\n",
       "      <th>4</th>\n",
       "      <td>75.05</td>\n",
       "      <td>0.6000</td>\n",
       "      <td>0.0</td>\n",
       "      <td>0.41</td>\n",
       "      <td>1.3225</td>\n",
       "      <td>0</td>\n",
       "      <td>48.71</td>\n",
       "      <td>19.2300</td>\n",
       "    </tr>\n",
       "  </tbody>\n",
       "</table>\n",
       "</div>"
      ],
      "text/plain": [
       "     PM10      Pb   Cd    Cu      Cr  Zn    NOx      SO2\n",
       "0  120.71  2.0825  0.0  0.53  0.6100   0  84.17  40.3700\n",
       "1  140.25  2.0825  0.0  0.10  0.9100   0  88.81  39.4800\n",
       "2  107.01  1.3100  0.0  0.19  0.4800   0  81.49  45.8025\n",
       "3   88.81  0.7600  0.0  0.33  0.3900   0  61.80  27.4200\n",
       "4   75.05  0.6000  0.0  0.41  1.3225   0  48.71  19.2300"
      ]
     },
     "execution_count": 11,
     "metadata": {},
     "output_type": "execute_result"
    }
   ],
   "source": [
    "df.head()"
   ]
  },
  {
   "cell_type": "code",
   "execution_count": 12,
   "id": "824937a7",
   "metadata": {},
   "outputs": [],
   "source": [
    "X= df.drop(['PM10','Cd','Zn'],axis=1)\n",
    "\n",
    "y= df[['PM10']]\n",
    "\n",
    "from sklearn.model_selection import train_test_split\n",
    "X_train, X_test, y_train, y_test =train_test_split(X, y, train_size=0.7 ,random_state=250)"
   ]
  },
  {
   "cell_type": "code",
   "execution_count": 13,
   "id": "6a6f1caa",
   "metadata": {},
   "outputs": [
    {
     "data": {
      "text/html": [
       "<div>\n",
       "<style scoped>\n",
       "    .dataframe tbody tr th:only-of-type {\n",
       "        vertical-align: middle;\n",
       "    }\n",
       "\n",
       "    .dataframe tbody tr th {\n",
       "        vertical-align: top;\n",
       "    }\n",
       "\n",
       "    .dataframe thead th {\n",
       "        text-align: right;\n",
       "    }\n",
       "</style>\n",
       "<table border=\"1\" class=\"dataframe\">\n",
       "  <thead>\n",
       "    <tr style=\"text-align: right;\">\n",
       "      <th></th>\n",
       "      <th>Pb</th>\n",
       "      <th>Cu</th>\n",
       "      <th>Cr</th>\n",
       "      <th>NOx</th>\n",
       "      <th>SO2</th>\n",
       "      <th>PM10</th>\n",
       "    </tr>\n",
       "  </thead>\n",
       "  <tbody>\n",
       "    <tr>\n",
       "      <th>94</th>\n",
       "      <td>0.84</td>\n",
       "      <td>0.21</td>\n",
       "      <td>0.78</td>\n",
       "      <td>38.41</td>\n",
       "      <td>17.84</td>\n",
       "      <td>101.46</td>\n",
       "    </tr>\n",
       "    <tr>\n",
       "      <th>131</th>\n",
       "      <td>0.11</td>\n",
       "      <td>0.22</td>\n",
       "      <td>0.19</td>\n",
       "      <td>21.46</td>\n",
       "      <td>17.72</td>\n",
       "      <td>35.88</td>\n",
       "    </tr>\n",
       "    <tr>\n",
       "      <th>16</th>\n",
       "      <td>0.34</td>\n",
       "      <td>0.01</td>\n",
       "      <td>0.04</td>\n",
       "      <td>21.41</td>\n",
       "      <td>10.15</td>\n",
       "      <td>41.05</td>\n",
       "    </tr>\n",
       "    <tr>\n",
       "      <th>21</th>\n",
       "      <td>0.99</td>\n",
       "      <td>0.84</td>\n",
       "      <td>0.73</td>\n",
       "      <td>95.96</td>\n",
       "      <td>26.30</td>\n",
       "      <td>95.38</td>\n",
       "    </tr>\n",
       "    <tr>\n",
       "      <th>138</th>\n",
       "      <td>0.00</td>\n",
       "      <td>0.00</td>\n",
       "      <td>0.00</td>\n",
       "      <td>26.75</td>\n",
       "      <td>16.38</td>\n",
       "      <td>28.97</td>\n",
       "    </tr>\n",
       "  </tbody>\n",
       "</table>\n",
       "</div>"
      ],
      "text/plain": [
       "       Pb    Cu    Cr    NOx    SO2    PM10\n",
       "94   0.84  0.21  0.78  38.41  17.84  101.46\n",
       "131  0.11  0.22  0.19  21.46  17.72   35.88\n",
       "16   0.34  0.01  0.04  21.41  10.15   41.05\n",
       "21   0.99  0.84  0.73  95.96  26.30   95.38\n",
       "138  0.00  0.00  0.00  26.75  16.38   28.97"
      ]
     },
     "execution_count": 13,
     "metadata": {},
     "output_type": "execute_result"
    }
   ],
   "source": [
    "d1=pd.concat([X_train,y_train],axis=1)\n",
    "d1.head()"
   ]
  },
  {
   "cell_type": "markdown",
   "id": "862f7a81",
   "metadata": {},
   "source": [
    "# Correlation Matrix"
   ]
  },
  {
   "cell_type": "code",
   "execution_count": 14,
   "id": "674324f3",
   "metadata": {
    "scrolled": true
   },
   "outputs": [
    {
     "data": {
      "text/html": [
       "<div>\n",
       "<style scoped>\n",
       "    .dataframe tbody tr th:only-of-type {\n",
       "        vertical-align: middle;\n",
       "    }\n",
       "\n",
       "    .dataframe tbody tr th {\n",
       "        vertical-align: top;\n",
       "    }\n",
       "\n",
       "    .dataframe thead th {\n",
       "        text-align: right;\n",
       "    }\n",
       "</style>\n",
       "<table border=\"1\" class=\"dataframe\">\n",
       "  <thead>\n",
       "    <tr style=\"text-align: right;\">\n",
       "      <th></th>\n",
       "      <th>Pb</th>\n",
       "      <th>Cu</th>\n",
       "      <th>Cr</th>\n",
       "      <th>NOx</th>\n",
       "      <th>SO2</th>\n",
       "      <th>PM10</th>\n",
       "    </tr>\n",
       "  </thead>\n",
       "  <tbody>\n",
       "    <tr>\n",
       "      <th>Pb</th>\n",
       "      <td>1.000000</td>\n",
       "      <td>0.686375</td>\n",
       "      <td>0.788004</td>\n",
       "      <td>0.714193</td>\n",
       "      <td>0.614465</td>\n",
       "      <td>0.880196</td>\n",
       "    </tr>\n",
       "    <tr>\n",
       "      <th>Cu</th>\n",
       "      <td>0.686375</td>\n",
       "      <td>1.000000</td>\n",
       "      <td>0.793502</td>\n",
       "      <td>0.487378</td>\n",
       "      <td>0.438655</td>\n",
       "      <td>0.713121</td>\n",
       "    </tr>\n",
       "    <tr>\n",
       "      <th>Cr</th>\n",
       "      <td>0.788004</td>\n",
       "      <td>0.793502</td>\n",
       "      <td>1.000000</td>\n",
       "      <td>0.521028</td>\n",
       "      <td>0.497571</td>\n",
       "      <td>0.846539</td>\n",
       "    </tr>\n",
       "    <tr>\n",
       "      <th>NOx</th>\n",
       "      <td>0.714193</td>\n",
       "      <td>0.487378</td>\n",
       "      <td>0.521028</td>\n",
       "      <td>1.000000</td>\n",
       "      <td>0.830826</td>\n",
       "      <td>0.605654</td>\n",
       "    </tr>\n",
       "    <tr>\n",
       "      <th>SO2</th>\n",
       "      <td>0.614465</td>\n",
       "      <td>0.438655</td>\n",
       "      <td>0.497571</td>\n",
       "      <td>0.830826</td>\n",
       "      <td>1.000000</td>\n",
       "      <td>0.551062</td>\n",
       "    </tr>\n",
       "    <tr>\n",
       "      <th>PM10</th>\n",
       "      <td>0.880196</td>\n",
       "      <td>0.713121</td>\n",
       "      <td>0.846539</td>\n",
       "      <td>0.605654</td>\n",
       "      <td>0.551062</td>\n",
       "      <td>1.000000</td>\n",
       "    </tr>\n",
       "  </tbody>\n",
       "</table>\n",
       "</div>"
      ],
      "text/plain": [
       "            Pb        Cu        Cr       NOx       SO2      PM10\n",
       "Pb    1.000000  0.686375  0.788004  0.714193  0.614465  0.880196\n",
       "Cu    0.686375  1.000000  0.793502  0.487378  0.438655  0.713121\n",
       "Cr    0.788004  0.793502  1.000000  0.521028  0.497571  0.846539\n",
       "NOx   0.714193  0.487378  0.521028  1.000000  0.830826  0.605654\n",
       "SO2   0.614465  0.438655  0.497571  0.830826  1.000000  0.551062\n",
       "PM10  0.880196  0.713121  0.846539  0.605654  0.551062  1.000000"
      ]
     },
     "execution_count": 14,
     "metadata": {},
     "output_type": "execute_result"
    }
   ],
   "source": [
    "d1.corr()"
   ]
  },
  {
   "cell_type": "code",
   "execution_count": 15,
   "id": "298b2d37",
   "metadata": {
    "scrolled": true
   },
   "outputs": [
    {
     "data": {
      "text/plain": [
       "<AxesSubplot:>"
      ]
     },
     "execution_count": 15,
     "metadata": {},
     "output_type": "execute_result"
    },
    {
     "data": {
      "image/png": "[encoded data removed]",
      "text/plain": [
       "<Figure size 432x288 with 2 Axes>"
      ]
     },
     "metadata": {
      "needs_background": "light"
     },
     "output_type": "display_data"
    }
   ],
   "source": [
    "sns.heatmap(d1.corr(),annot=True)"
   ]
  },
  {
   "cell_type": "code",
   "execution_count": 16,
   "id": "a220002c",
   "metadata": {},
   "outputs": [
    {
     "data": {
      "text/plain": [
       "<AxesSubplot:title={'center':'Relationship between Pb and PM10'}, xlabel='Pb', ylabel='PM10'>"
      ]
     },
     "execution_count": 16,
     "metadata": {},
     "output_type": "execute_result"
    },
    {
     "data": {
      "image/png": "[encoded data removed]",
      "text/plain": [
       "<Figure size 432x288 with 1 Axes>"
      ]
     },
     "metadata": {
      "needs_background": "light"
     },
     "output_type": "display_data"
    }
   ],
   "source": [
    "d1.plot.scatter(x='Pb',y='PM10',title='Relationship between Pb and PM10')"
   ]
  },
  {
   "cell_type": "markdown",
   "id": "f4402624",
   "metadata": {},
   "source": [
    "#### Pb have 88% strong positive relationship between Pb and PM10"
   ]
  },
  {
   "cell_type": "markdown",
   "id": "c4a2edbd",
   "metadata": {},
   "source": [
    "* Pb has high contribution to PM10\n",
    "* There is no collinearity"
   ]
  },
  {
   "cell_type": "markdown",
   "id": "3f4fcfff",
   "metadata": {},
   "source": [
    "### Multicolinearity (with the help of VIF)"
   ]
  },
  {
   "cell_type": "code",
   "execution_count": 17,
   "id": "17424dd8",
   "metadata": {},
   "outputs": [
    {
     "data": {
      "text/plain": [
       "Pb      9.725844\n",
       "Cu      4.919229\n",
       "Cr      8.311351\n",
       "NOx    20.672414\n",
       "SO2    16.521016\n",
       "dtype: float64"
      ]
     },
     "execution_count": 17,
     "metadata": {},
     "output_type": "execute_result"
    }
   ],
   "source": [
    "X1= d1.drop('PM10',axis=1)\n",
    "\n",
    "series_before=pd.Series([variance_inflation_factor(X1.values,i)\n",
    "                         for i in range(X1.shape[1])],\n",
    "                         index=X1.columns)\n",
    "series_before"
   ]
  },
  {
   "cell_type": "markdown",
   "id": "4b0e532e",
   "metadata": {},
   "source": [
    "* There is Collinearity in the data, As VIF > 10\n",
    "* We remove collinearity "
   ]
  },
  {
   "cell_type": "code",
   "execution_count": 18,
   "id": "36920044",
   "metadata": {
    "collapsed": true
   },
   "outputs": [
    {
     "data": {
      "text/plain": [
       "array([[8.40000e-01, 2.10000e-01, 7.80000e-01, 3.84100e+01, 1.78400e+01],\n",
       "       [1.10000e-01, 2.20000e-01, 1.90000e-01, 2.14600e+01, 1.77200e+01],\n",
       "       [3.40000e-01, 1.00000e-02, 4.00000e-02, 2.14100e+01, 1.01500e+01],\n",
       "       [9.90000e-01, 8.40000e-01, 7.30000e-01, 9.59600e+01, 2.63000e+01],\n",
       "       [0.00000e+00, 0.00000e+00, 0.00000e+00, 2.67500e+01, 1.63800e+01],\n",
       "       [7.10000e-01, 1.30000e-01, 3.00000e-01, 2.54700e+01, 1.98000e+01],\n",
       "       [5.80000e-01, 7.70000e-01, 5.70000e-01, 2.44700e+01, 1.36100e+01],\n",
       "       [8.80000e-01, 8.70000e-01, 5.60000e-01, 5.28900e+01, 2.09300e+01],\n",
       "       [6.50000e-01, 7.00000e-02, 2.20000e-01, 6.32200e+01, 3.51200e+01],\n",
       "       [3.90000e-01, 0.00000e+00, 5.00000e-02, 3.69600e+01, 1.21600e+01],\n",
       "       [8.00000e-02, 1.30000e-01, 7.00000e-02, 5.76100e+01, 2.25200e+01],\n",
       "       [9.80000e-01, 8.10000e-01, 9.10000e-01, 5.36700e+01, 3.09100e+01],\n",
       "       [5.40000e-01, 2.60000e-01, 3.10000e-01, 1.85100e+01, 1.52000e+01],\n",
       "       [4.00000e-01, 1.90000e-01, 2.00000e-01, 3.80900e+01, 2.61900e+01],\n",
       "       [9.20000e-01, 8.90000e-01, 5.50000e-01, 6.36600e+01, 2.71300e+01],\n",
       "       [3.40000e-01, 2.10000e-01, 2.20000e-01, 1.93700e+01, 1.00700e+01],\n",
       "       [1.42000e+00, 1.10000e-01, 9.20000e-01, 9.57400e+01, 4.58025e+01],\n",
       "       [2.90000e-01, 2.00000e-01, 5.00000e-02, 2.82700e+01, 1.89200e+01],\n",
       "       [1.89000e+00, 1.13000e+00, 9.70000e-01, 9.23700e+01, 3.25200e+01],\n",
       "       [9.00000e-02, 0.00000e+00, 0.00000e+00, 1.58400e+01, 0.00000e+00],\n",
       "       [9.00000e-01, 7.70000e-01, 8.90000e-01, 7.02100e+01, 3.52600e+01],\n",
       "       [1.40000e-01, 1.00000e-01, 0.00000e+00, 3.16200e+01, 1.75200e+01],\n",
       "       [9.00000e-02, 6.00000e-02, 1.00000e-02, 1.60500e+01, 6.68000e+00],\n",
       "       [8.70000e-01, 9.10000e-01, 6.70000e-01, 4.71200e+01, 1.94300e+01],\n",
       "       [8.90000e-01, 2.80000e-01, 2.90000e-01, 4.38400e+01, 2.67100e+01],\n",
       "       [7.80000e-01, 7.00000e-02, 2.00000e-01, 2.34100e+01, 1.40900e+01],\n",
       "       [2.08250e+00, 1.27750e+00, 1.02000e+00, 7.98100e+01, 4.58025e+01],\n",
       "       [0.00000e+00, 9.00000e-02, 0.00000e+00, 3.09900e+01, 2.43700e+01],\n",
       "       [9.00000e-02, 3.00000e-02, 1.00000e-02, 1.93800e+01, 9.97000e+00],\n",
       "       [0.00000e+00, 0.00000e+00, 0.00000e+00, 2.67500e+01, 1.96600e+01],\n",
       "       [1.86000e+00, 9.70000e-01, 7.90000e-01, 7.85700e+01, 2.87700e+01],\n",
       "       [3.70000e-01, 1.70000e-01, 1.90000e-01, 4.27500e+01, 3.08000e+01],\n",
       "       [1.30000e-01, 3.00000e-02, 1.10000e-01, 5.67200e+01, 3.12300e+01],\n",
       "       [5.50000e-01, 6.00000e-02, 4.20000e-01, 1.75200e+01, 1.17500e+01],\n",
       "       [5.10000e-01, 1.00000e-02, 1.70000e-01, 5.01100e+01, 2.22900e+01],\n",
       "       [0.00000e+00, 0.00000e+00, 0.00000e+00, 3.70000e+01, 2.24300e+01],\n",
       "       [0.00000e+00, 0.00000e+00, 0.00000e+00, 1.98200e+01, 1.37200e+01],\n",
       "       [2.20000e-01, 0.00000e+00, 2.00000e-02, 2.01400e+01, 9.38000e+00],\n",
       "       [7.60000e-01, 3.30000e-01, 3.90000e-01, 6.18000e+01, 2.74200e+01],\n",
       "       [2.00000e-02, 2.00000e-02, 3.00000e-02, 5.32900e+01, 3.62400e+01],\n",
       "       [1.17000e+00, 1.30000e-01, 2.40000e-01, 2.88000e+01, 1.10700e+01],\n",
       "       [4.70000e-01, 9.00000e-02, 2.80000e-01, 2.46200e+01, 1.46200e+01],\n",
       "       [1.05000e+00, 1.00000e+00, 7.70000e-01, 7.22300e+01, 4.58025e+01],\n",
       "       [0.00000e+00, 0.00000e+00, 0.00000e+00, 1.92300e+01, 2.16000e+00],\n",
       "       [1.90000e-01, 1.10000e-01, 1.90000e-01, 2.63900e+01, 1.84400e+01],\n",
       "       [1.40000e-01, 1.70000e-01, 1.10000e-01, 3.33600e+01, 1.51300e+01],\n",
       "       [7.00000e-02, 5.00000e-02, 9.00000e-02, 3.18800e+01, 2.24400e+01],\n",
       "       [1.36000e+00, 1.25000e+00, 1.32250e+00, 5.63600e+01, 3.11200e+01],\n",
       "       [1.29000e+00, 7.80000e-01, 1.03000e+00, 2.96500e+01, 1.04900e+01],\n",
       "       [2.00000e-01, 1.90000e-01, 1.60000e-01, 6.18300e+01, 2.80100e+01],\n",
       "       [4.70000e-01, 7.00000e-02, 1.00000e-01, 2.98400e+01, 1.62700e+01],\n",
       "       [1.49000e+00, 1.10000e+00, 1.14000e+00, 3.37500e+01, 2.61100e+01],\n",
       "       [5.50000e-01, 6.30000e-01, 3.30000e-01, 3.94500e+01, 2.14200e+01],\n",
       "       [1.39000e+00, 5.30000e-01, 7.10000e-01, 8.07200e+01, 3.43100e+01],\n",
       "       [5.70000e-01, 5.00000e-01, 2.40000e-01, 4.41500e+01, 2.56800e+01],\n",
       "       [1.41000e+00, 8.00000e-02, 2.90000e-01, 7.89100e+01, 4.08700e+01],\n",
       "       [2.08250e+00, 1.00000e-01, 9.10000e-01, 8.88100e+01, 3.94800e+01],\n",
       "       [4.90000e-01, 8.00000e-02, 1.80000e-01, 4.00700e+01, 2.57000e+01],\n",
       "       [4.80000e-01, 4.00000e-02, 6.00000e-02, 4.20800e+01, 2.29500e+01],\n",
       "       [1.90000e-01, 1.80000e-01, 1.20000e-01, 2.12800e+01, 1.54000e+01],\n",
       "       [7.70000e-01, 5.40000e-01, 4.80000e-01, 4.94000e+01, 2.08200e+01],\n",
       "       [1.12000e+00, 1.16000e+00, 9.70000e-01, 2.97100e+01, 3.92500e+01],\n",
       "       [7.90000e-01, 3.20000e-01, 3.30000e-01, 4.62500e+01, 2.68500e+01],\n",
       "       [8.40000e-01, 7.40000e-01, 4.90000e-01, 5.60200e+01, 2.42400e+01],\n",
       "       [4.90000e-01, 1.00000e-02, 1.80000e-01, 4.07400e+01, 1.80100e+01],\n",
       "       [1.07000e+00, 2.80000e-01, 8.50000e-01, 2.93700e+01, 1.99400e+01],\n",
       "       [1.47000e+00, 1.20000e+00, 8.10000e-01, 8.42100e+01, 4.24300e+01],\n",
       "       [4.00000e-01, 1.90000e-01, 4.40000e-01, 3.89200e+01, 2.52700e+01],\n",
       "       [1.61000e+00, 1.27750e+00, 3.80000e-01, 8.41700e+01, 2.74200e+01],\n",
       "       [0.00000e+00, 1.60000e-01, 4.00000e-02, 2.21400e+01, 1.09300e+01],\n",
       "       [4.10000e-01, 5.00000e-02, 1.10000e-01, 2.04000e+01, 1.28400e+01],\n",
       "       [8.00000e-02, 1.00000e-02, 2.00000e-02, 2.40800e+01, 1.66500e+01],\n",
       "       [5.20000e-01, 6.90000e-01, 4.20000e-01, 3.04700e+01, 1.74600e+01],\n",
       "       [2.90000e-01, 9.00000e-02, 2.30000e-01, 1.98700e+01, 1.00600e+01],\n",
       "       [1.00000e-01, 2.00000e-02, 2.00000e-02, 1.71100e+01, 8.07000e+00],\n",
       "       [9.80000e-01, 9.70000e-01, 9.40000e-01, 3.31900e+01, 1.91500e+01],\n",
       "       [7.20000e-01, 1.90000e-01, 3.20000e-01, 6.17200e+01, 2.35100e+01],\n",
       "       [0.00000e+00, 0.00000e+00, 0.00000e+00, 3.05200e+01, 2.45100e+01],\n",
       "       [6.60000e-01, 1.00000e-01, 2.20000e-01, 2.39300e+01, 2.01600e+01],\n",
       "       [8.10000e-01, 8.30000e-01, 5.40000e-01, 3.94900e+01, 1.48700e+01],\n",
       "       [6.50000e-01, 1.20000e-01, 2.20000e-01, 2.74100e+01, 1.60600e+01],\n",
       "       [4.50000e-01, 3.40000e-01, 4.20000e-01, 2.99000e+01, 2.02700e+01],\n",
       "       [6.00000e-01, 4.10000e-01, 1.32250e+00, 4.87100e+01, 1.92300e+01],\n",
       "       [2.08250e+00, 5.30000e-01, 6.10000e-01, 8.41700e+01, 4.03700e+01],\n",
       "       [1.10000e-01, 2.00000e-02, 5.00000e-02, 3.15300e+01, 2.66400e+01],\n",
       "       [1.90000e-01, 1.10000e-01, 4.00000e-02, 3.97000e+01, 1.99100e+01],\n",
       "       [5.50000e-01, 4.20000e-01, 2.00000e-01, 2.84100e+01, 1.94900e+01],\n",
       "       [1.31000e+00, 1.90000e-01, 4.80000e-01, 8.14900e+01, 4.58025e+01],\n",
       "       [3.30000e-01, 3.00000e-02, 1.00000e-02, 2.14400e+01, 1.13200e+01],\n",
       "       [5.10000e-01, 2.10000e-01, 2.30000e-01, 4.98000e+01, 2.23200e+01],\n",
       "       [5.90000e-01, 4.20000e-01, 6.00000e-01, 4.16200e+01, 2.67100e+01],\n",
       "       [1.90000e-01, 5.00000e-02, 3.00000e-02, 1.40300e+01, 5.19000e+00],\n",
       "       [0.00000e+00, 0.00000e+00, 9.00000e-02, 2.14400e+01, 1.80200e+01],\n",
       "       [1.78000e+00, 1.04000e+00, 8.70000e-01, 9.13600e+01, 3.92300e+01],\n",
       "       [7.10000e-01, 8.00000e-02, 1.90000e-01, 3.99600e+01, 1.75800e+01],\n",
       "       [1.05000e+00, 1.07000e+00, 1.00000e+00, 4.27700e+01, 2.71700e+01],\n",
       "       [2.10000e-01, 0.00000e+00, 0.00000e+00, 5.47100e+01, 2.90400e+01],\n",
       "       [6.60000e-01, 4.00000e-02, 3.20000e-01, 3.80400e+01, 2.02100e+01],\n",
       "       [7.60000e-01, 8.00000e-02, 4.00000e-01, 2.11800e+01, 1.24600e+01],\n",
       "       [4.00000e-01, 1.90000e-01, 2.10000e-01, 5.71700e+01, 2.26400e+01],\n",
       "       [3.10000e-01, 3.00000e-02, 1.00000e-01, 2.77200e+01, 1.64900e+01],\n",
       "       [6.90000e-01, 3.00000e-02, 1.00000e-01, 4.87100e+01, 2.50100e+01],\n",
       "       [6.10000e-01, 5.90000e-01, 4.90000e-01, 3.64800e+01, 2.25600e+01],\n",
       "       [6.40000e-01, 8.10000e-01, 6.10000e-01, 3.55900e+01, 2.10000e+01],\n",
       "       [7.00000e-02, 0.00000e+00, 0.00000e+00, 2.94700e+01, 1.73300e+01]])"
      ]
     },
     "execution_count": 18,
     "metadata": {},
     "output_type": "execute_result"
    }
   ],
   "source": [
    "X1.values"
   ]
  },
  {
   "cell_type": "code",
   "execution_count": 19,
   "id": "0d7cd5a6",
   "metadata": {
    "scrolled": true
   },
   "outputs": [
    {
     "data": {
      "text/plain": [
       "5"
      ]
     },
     "execution_count": 19,
     "metadata": {},
     "output_type": "execute_result"
    }
   ],
   "source": [
    "X1.shape[1]"
   ]
  },
  {
   "cell_type": "code",
   "execution_count": 20,
   "id": "5478fac5",
   "metadata": {},
   "outputs": [
    {
     "data": {
      "text/plain": [
       "Index(['Pb', 'Cu', 'Cr', 'NOx', 'SO2'], dtype='object')"
      ]
     },
     "execution_count": 20,
     "metadata": {},
     "output_type": "execute_result"
    }
   ],
   "source": [
    "X.columns"
   ]
  },
  {
   "cell_type": "markdown",
   "id": "4c31d158",
   "metadata": {},
   "source": [
    "# Model Building"
   ]
  },
  {
   "cell_type": "markdown",
   "id": "2572c1a5",
   "metadata": {},
   "source": [
    "* Ho:- There is no Linear relationship between PM10 and Pb,Cu,Cr,NOx,SO2.\n",
    "* Vs.\n",
    "* H1:- There is Linear relationship between PM10 and Pb,Cu,Cr,NOx,SO2.\n",
    "* Alpha:- 0.05    "
   ]
  },
  {
   "cell_type": "code",
   "execution_count": 21,
   "id": "a3bffae3",
   "metadata": {},
   "outputs": [
    {
     "data": {
      "text/html": [
       "<table class=\"simpletable\">\n",
       "<caption>OLS Regression Results</caption>\n",
       "<tr>\n",
       "  <th>Dep. Variable:</th>          <td>PM10</td>       <th>  R-squared:         </th> <td>   0.823</td>\n",
       "</tr>\n",
       "<tr>\n",
       "  <th>Model:</th>                   <td>OLS</td>       <th>  Adj. R-squared:    </th> <td>   0.817</td>\n",
       "</tr>\n",
       "<tr>\n",
       "  <th>Method:</th>             <td>Least Squares</td>  <th>  F-statistic:       </th> <td>   135.0</td>\n",
       "</tr>\n",
       "<tr>\n",
       "  <th>Date:</th>             <td>Sun, 22 May 2022</td> <th>  Prob (F-statistic):</th> <td>1.02e-52</td>\n",
       "</tr>\n",
       "<tr>\n",
       "  <th>Time:</th>                 <td>22:28:03</td>     <th>  Log-Likelihood:    </th> <td> -638.53</td>\n",
       "</tr>\n",
       "<tr>\n",
       "  <th>No. Observations:</th>      <td>   151</td>      <th>  AIC:               </th> <td>   1289.</td>\n",
       "</tr>\n",
       "<tr>\n",
       "  <th>Df Residuals:</th>          <td>   145</td>      <th>  BIC:               </th> <td>   1307.</td>\n",
       "</tr>\n",
       "<tr>\n",
       "  <th>Df Model:</th>              <td>     5</td>      <th>                     </th>     <td> </td>   \n",
       "</tr>\n",
       "<tr>\n",
       "  <th>Covariance Type:</th>      <td>nonrobust</td>    <th>                     </th>     <td> </td>   \n",
       "</tr>\n",
       "</table>\n",
       "<table class=\"simpletable\">\n",
       "<tr>\n",
       "      <td></td>         <th>coef</th>     <th>std err</th>      <th>t</th>      <th>P>|t|</th>  <th>[0.025</th>    <th>0.975]</th>  \n",
       "</tr>\n",
       "<tr>\n",
       "  <th>Intercept</th> <td>   22.7004</td> <td>    3.390</td> <td>    6.695</td> <td> 0.000</td> <td>   15.999</td> <td>   29.401</td>\n",
       "</tr>\n",
       "<tr>\n",
       "  <th>Pb</th>        <td>   34.5829</td> <td>    4.690</td> <td>    7.374</td> <td> 0.000</td> <td>   25.314</td> <td>   43.852</td>\n",
       "</tr>\n",
       "<tr>\n",
       "  <th>Cu</th>        <td>    6.4346</td> <td>    5.908</td> <td>    1.089</td> <td> 0.278</td> <td>   -5.242</td> <td>   18.112</td>\n",
       "</tr>\n",
       "<tr>\n",
       "  <th>Cr</th>        <td>   42.6691</td> <td>    7.519</td> <td>    5.675</td> <td> 0.000</td> <td>   27.809</td> <td>   57.529</td>\n",
       "</tr>\n",
       "<tr>\n",
       "  <th>NOx</th>       <td>   -0.0380</td> <td>    0.133</td> <td>   -0.286</td> <td> 0.775</td> <td>   -0.301</td> <td>    0.225</td>\n",
       "</tr>\n",
       "<tr>\n",
       "  <th>SO2</th>       <td>    0.2454</td> <td>    0.274</td> <td>    0.895</td> <td> 0.372</td> <td>   -0.296</td> <td>    0.787</td>\n",
       "</tr>\n",
       "</table>\n",
       "<table class=\"simpletable\">\n",
       "<tr>\n",
       "  <th>Omnibus:</th>       <td>13.106</td> <th>  Durbin-Watson:     </th> <td>   0.990</td>\n",
       "</tr>\n",
       "<tr>\n",
       "  <th>Prob(Omnibus):</th> <td> 0.001</td> <th>  Jarque-Bera (JB):  </th> <td>  15.950</td>\n",
       "</tr>\n",
       "<tr>\n",
       "  <th>Skew:</th>          <td> 0.565</td> <th>  Prob(JB):          </th> <td>0.000344</td>\n",
       "</tr>\n",
       "<tr>\n",
       "  <th>Kurtosis:</th>      <td> 4.121</td> <th>  Cond. No.          </th> <td>    340.</td>\n",
       "</tr>\n",
       "</table><br/><br/>Notes:<br/>[1] Standard Errors assume that the covariance matrix of the errors is correctly specified."
      ],
      "text/plain": [
       "<class 'statsmodels.iolib.summary.Summary'>\n",
       "\"\"\"\n",
       "                            OLS Regression Results                            \n",
       "==============================================================================\n",
       "Dep. Variable:                   PM10   R-squared:                       0.823\n",
       "Model:                            OLS   Adj. R-squared:                  0.817\n",
       "Method:                 Least Squares   F-statistic:                     135.0\n",
       "Date:                Sun, 22 May 2022   Prob (F-statistic):           1.02e-52\n",
       "Time:                        22:28:03   Log-Likelihood:                -638.53\n",
       "No. Observations:                 151   AIC:                             1289.\n",
       "Df Residuals:                     145   BIC:                             1307.\n",
       "Df Model:                           5                                         \n",
       "Covariance Type:            nonrobust                                         \n",
       "==============================================================================\n",
       "                 coef    std err          t      P>|t|      [0.025      0.975]\n",
       "------------------------------------------------------------------------------\n",
       "Intercept     22.7004      3.390      6.695      0.000      15.999      29.401\n",
       "Pb            34.5829      4.690      7.374      0.000      25.314      43.852\n",
       "Cu             6.4346      5.908      1.089      0.278      -5.242      18.112\n",
       "Cr            42.6691      7.519      5.675      0.000      27.809      57.529\n",
       "NOx           -0.0380      0.133     -0.286      0.775      -0.301       0.225\n",
       "SO2            0.2454      0.274      0.895      0.372      -0.296       0.787\n",
       "==============================================================================\n",
       "Omnibus:                       13.106   Durbin-Watson:                   0.990\n",
       "Prob(Omnibus):                  0.001   Jarque-Bera (JB):               15.950\n",
       "Skew:                           0.565   Prob(JB):                     0.000344\n",
       "Kurtosis:                       4.121   Cond. No.                         340.\n",
       "==============================================================================\n",
       "\n",
       "Notes:\n",
       "[1] Standard Errors assume that the covariance matrix of the errors is correctly specified.\n",
       "\"\"\""
      ]
     },
     "execution_count": 21,
     "metadata": {},
     "output_type": "execute_result"
    }
   ],
   "source": [
    "import statsmodels.formula.api as smf\n",
    "model = smf.ols('PM10 ~ Pb+Cu+Cr+NOx+SO2',data=df).fit()\n",
    "model.summary()"
   ]
  },
  {
   "cell_type": "markdown",
   "id": "9d67924a",
   "metadata": {},
   "source": [
    "* There is Linear relationship between PM10 and Pb,Cr\n",
    "* There is no Linear relationship between PM10 and Cu,NOx,SO2.\n",
    "  * So we will remove and rerun the model\n",
    "* 82% Accuracy of model, so we say model is good fit    "
   ]
  },
  {
   "cell_type": "code",
   "execution_count": 22,
   "id": "b96c5748",
   "metadata": {},
   "outputs": [
    {
     "data": {
      "text/html": [
       "<table class=\"simpletable\">\n",
       "<caption>OLS Regression Results</caption>\n",
       "<tr>\n",
       "  <th>Dep. Variable:</th>          <td>PM10</td>       <th>  R-squared:         </th> <td>   0.820</td>\n",
       "</tr>\n",
       "<tr>\n",
       "  <th>Model:</th>                   <td>OLS</td>       <th>  Adj. R-squared:    </th> <td>   0.818</td>\n",
       "</tr>\n",
       "<tr>\n",
       "  <th>Method:</th>             <td>Least Squares</td>  <th>  F-statistic:       </th> <td>   337.4</td>\n",
       "</tr>\n",
       "<tr>\n",
       "  <th>Date:</th>             <td>Sun, 22 May 2022</td> <th>  Prob (F-statistic):</th> <td>7.33e-56</td>\n",
       "</tr>\n",
       "<tr>\n",
       "  <th>Time:</th>                 <td>22:28:03</td>     <th>  Log-Likelihood:    </th> <td> -639.79</td>\n",
       "</tr>\n",
       "<tr>\n",
       "  <th>No. Observations:</th>      <td>   151</td>      <th>  AIC:               </th> <td>   1286.</td>\n",
       "</tr>\n",
       "<tr>\n",
       "  <th>Df Residuals:</th>          <td>   148</td>      <th>  BIC:               </th> <td>   1295.</td>\n",
       "</tr>\n",
       "<tr>\n",
       "  <th>Df Model:</th>              <td>     2</td>      <th>                     </th>     <td> </td>   \n",
       "</tr>\n",
       "<tr>\n",
       "  <th>Covariance Type:</th>      <td>nonrobust</td>    <th>                     </th>     <td> </td>   \n",
       "</tr>\n",
       "</table>\n",
       "<table class=\"simpletable\">\n",
       "<tr>\n",
       "      <td></td>         <th>coef</th>     <th>std err</th>      <th>t</th>      <th>P>|t|</th>  <th>[0.025</th>    <th>0.975]</th>  \n",
       "</tr>\n",
       "<tr>\n",
       "  <th>Intercept</th> <td>   25.1845</td> <td>    2.175</td> <td>   11.580</td> <td> 0.000</td> <td>   20.887</td> <td>   29.482</td>\n",
       "</tr>\n",
       "<tr>\n",
       "  <th>Pb</th>        <td>   36.6917</td> <td>    3.947</td> <td>    9.297</td> <td> 0.000</td> <td>   28.893</td> <td>   44.491</td>\n",
       "</tr>\n",
       "<tr>\n",
       "  <th>Cr</th>        <td>   48.1008</td> <td>    6.116</td> <td>    7.865</td> <td> 0.000</td> <td>   36.015</td> <td>   60.186</td>\n",
       "</tr>\n",
       "</table>\n",
       "<table class=\"simpletable\">\n",
       "<tr>\n",
       "  <th>Omnibus:</th>       <td>13.363</td> <th>  Durbin-Watson:     </th> <td>   1.036</td>\n",
       "</tr>\n",
       "<tr>\n",
       "  <th>Prob(Omnibus):</th> <td> 0.001</td> <th>  Jarque-Bera (JB):  </th> <td>  20.136</td>\n",
       "</tr>\n",
       "<tr>\n",
       "  <th>Skew:</th>          <td> 0.477</td> <th>  Prob(JB):          </th> <td>4.24e-05</td>\n",
       "</tr>\n",
       "<tr>\n",
       "  <th>Kurtosis:</th>      <td> 4.513</td> <th>  Cond. No.          </th> <td>    6.73</td>\n",
       "</tr>\n",
       "</table><br/><br/>Notes:<br/>[1] Standard Errors assume that the covariance matrix of the errors is correctly specified."
      ],
      "text/plain": [
       "<class 'statsmodels.iolib.summary.Summary'>\n",
       "\"\"\"\n",
       "                            OLS Regression Results                            \n",
       "==============================================================================\n",
       "Dep. Variable:                   PM10   R-squared:                       0.820\n",
       "Model:                            OLS   Adj. R-squared:                  0.818\n",
       "Method:                 Least Squares   F-statistic:                     337.4\n",
       "Date:                Sun, 22 May 2022   Prob (F-statistic):           7.33e-56\n",
       "Time:                        22:28:03   Log-Likelihood:                -639.79\n",
       "No. Observations:                 151   AIC:                             1286.\n",
       "Df Residuals:                     148   BIC:                             1295.\n",
       "Df Model:                           2                                         \n",
       "Covariance Type:            nonrobust                                         \n",
       "==============================================================================\n",
       "                 coef    std err          t      P>|t|      [0.025      0.975]\n",
       "------------------------------------------------------------------------------\n",
       "Intercept     25.1845      2.175     11.580      0.000      20.887      29.482\n",
       "Pb            36.6917      3.947      9.297      0.000      28.893      44.491\n",
       "Cr            48.1008      6.116      7.865      0.000      36.015      60.186\n",
       "==============================================================================\n",
       "Omnibus:                       13.363   Durbin-Watson:                   1.036\n",
       "Prob(Omnibus):                  0.001   Jarque-Bera (JB):               20.136\n",
       "Skew:                           0.477   Prob(JB):                     4.24e-05\n",
       "Kurtosis:                       4.513   Cond. No.                         6.73\n",
       "==============================================================================\n",
       "\n",
       "Notes:\n",
       "[1] Standard Errors assume that the covariance matrix of the errors is correctly specified.\n",
       "\"\"\""
      ]
     },
     "execution_count": 22,
     "metadata": {},
     "output_type": "execute_result"
    }
   ],
   "source": [
    "import statsmodels.formula.api as smf\n",
    "model2 = smf.ols('PM10 ~ Pb+Cr',data=df).fit()\n",
    "model2.summary()"
   ]
  },
  {
   "cell_type": "markdown",
   "id": "89cbfeb3",
   "metadata": {},
   "source": [
    "* There is Linear relationship between PM10 and Pb,Cr\n",
    "* 82% Accuracy of model, So model is good fit\n",
    "* y= 25.1845+ 36.6917* Pb +48.1008* Cr"
   ]
  },
  {
   "cell_type": "markdown",
   "id": "d3617a3f",
   "metadata": {},
   "source": [
    "# Multicollinearity (with the help of VIF)"
   ]
  },
  {
   "cell_type": "code",
   "execution_count": 32,
   "id": "1f9e929c",
   "metadata": {},
   "outputs": [
    {
     "data": {
      "text/plain": [
       "Pb    5.469255\n",
       "Cr    5.469255\n",
       "dtype: float64"
      ]
     },
     "execution_count": 32,
     "metadata": {},
     "output_type": "execute_result"
    }
   ],
   "source": [
    "X1=d1.loc[:,['Pb', 'Cr']]\n",
    "series_before = pd.Series([variance_inflation_factor(X1.values, i) \n",
    "                           for i in range(X1.shape[1])], \n",
    "                          index=X1.columns)\n",
    "series_before"
   ]
  },
  {
   "cell_type": "markdown",
   "id": "5784fb2b",
   "metadata": {},
   "source": [
    "## Assumption of Model"
   ]
  },
  {
   "cell_type": "markdown",
   "id": "9bbc3977",
   "metadata": {},
   "source": [
    "* Linearity\n",
    "* Homoscedasicity\n",
    "* Normality\n",
    "* Error has to be independently identificaly normally distributed"
   ]
  },
  {
   "cell_type": "code",
   "execution_count": 24,
   "id": "8d08b87f",
   "metadata": {},
   "outputs": [
    {
     "data": {
      "text/html": [
       "<div>\n",
       "<style scoped>\n",
       "    .dataframe tbody tr th:only-of-type {\n",
       "        vertical-align: middle;\n",
       "    }\n",
       "\n",
       "    .dataframe tbody tr th {\n",
       "        vertical-align: top;\n",
       "    }\n",
       "\n",
       "    .dataframe thead th {\n",
       "        text-align: right;\n",
       "    }\n",
       "</style>\n",
       "<table border=\"1\" class=\"dataframe\">\n",
       "  <thead>\n",
       "    <tr style=\"text-align: right;\">\n",
       "      <th></th>\n",
       "      <th>Pb</th>\n",
       "      <th>Cu</th>\n",
       "      <th>Cr</th>\n",
       "      <th>NOx</th>\n",
       "      <th>SO2</th>\n",
       "      <th>PM10</th>\n",
       "    </tr>\n",
       "  </thead>\n",
       "  <tbody>\n",
       "    <tr>\n",
       "      <th>94</th>\n",
       "      <td>0.84</td>\n",
       "      <td>0.21</td>\n",
       "      <td>0.78</td>\n",
       "      <td>38.41</td>\n",
       "      <td>17.84</td>\n",
       "      <td>101.46</td>\n",
       "    </tr>\n",
       "    <tr>\n",
       "      <th>131</th>\n",
       "      <td>0.11</td>\n",
       "      <td>0.22</td>\n",
       "      <td>0.19</td>\n",
       "      <td>21.46</td>\n",
       "      <td>17.72</td>\n",
       "      <td>35.88</td>\n",
       "    </tr>\n",
       "    <tr>\n",
       "      <th>16</th>\n",
       "      <td>0.34</td>\n",
       "      <td>0.01</td>\n",
       "      <td>0.04</td>\n",
       "      <td>21.41</td>\n",
       "      <td>10.15</td>\n",
       "      <td>41.05</td>\n",
       "    </tr>\n",
       "    <tr>\n",
       "      <th>21</th>\n",
       "      <td>0.99</td>\n",
       "      <td>0.84</td>\n",
       "      <td>0.73</td>\n",
       "      <td>95.96</td>\n",
       "      <td>26.30</td>\n",
       "      <td>95.38</td>\n",
       "    </tr>\n",
       "    <tr>\n",
       "      <th>138</th>\n",
       "      <td>0.00</td>\n",
       "      <td>0.00</td>\n",
       "      <td>0.00</td>\n",
       "      <td>26.75</td>\n",
       "      <td>16.38</td>\n",
       "      <td>28.97</td>\n",
       "    </tr>\n",
       "  </tbody>\n",
       "</table>\n",
       "</div>"
      ],
      "text/plain": [
       "       Pb    Cu    Cr    NOx    SO2    PM10\n",
       "94   0.84  0.21  0.78  38.41  17.84  101.46\n",
       "131  0.11  0.22  0.19  21.46  17.72   35.88\n",
       "16   0.34  0.01  0.04  21.41  10.15   41.05\n",
       "21   0.99  0.84  0.73  95.96  26.30   95.38\n",
       "138  0.00  0.00  0.00  26.75  16.38   28.97"
      ]
     },
     "execution_count": 24,
     "metadata": {},
     "output_type": "execute_result"
    }
   ],
   "source": [
    "d1.head()"
   ]
  },
  {
   "cell_type": "code",
   "execution_count": 25,
   "id": "aedcde3b",
   "metadata": {},
   "outputs": [
    {
     "data": {
      "text/html": [
       "<div>\n",
       "<style scoped>\n",
       "    .dataframe tbody tr th:only-of-type {\n",
       "        vertical-align: middle;\n",
       "    }\n",
       "\n",
       "    .dataframe tbody tr th {\n",
       "        vertical-align: top;\n",
       "    }\n",
       "\n",
       "    .dataframe thead th {\n",
       "        text-align: right;\n",
       "    }\n",
       "</style>\n",
       "<table border=\"1\" class=\"dataframe\">\n",
       "  <thead>\n",
       "    <tr style=\"text-align: right;\">\n",
       "      <th></th>\n",
       "      <th>Pb</th>\n",
       "      <th>Cu</th>\n",
       "      <th>Cr</th>\n",
       "      <th>NOx</th>\n",
       "      <th>SO2</th>\n",
       "      <th>PM10</th>\n",
       "      <th>Fitted_value</th>\n",
       "      <th>Residual</th>\n",
       "    </tr>\n",
       "  </thead>\n",
       "  <tbody>\n",
       "    <tr>\n",
       "      <th>94</th>\n",
       "      <td>0.84</td>\n",
       "      <td>0.21</td>\n",
       "      <td>0.78</td>\n",
       "      <td>38.41</td>\n",
       "      <td>17.84</td>\n",
       "      <td>101.46</td>\n",
       "      <td>93.524209</td>\n",
       "      <td>7.935791</td>\n",
       "    </tr>\n",
       "    <tr>\n",
       "      <th>131</th>\n",
       "      <td>0.11</td>\n",
       "      <td>0.22</td>\n",
       "      <td>0.19</td>\n",
       "      <td>21.46</td>\n",
       "      <td>17.72</td>\n",
       "      <td>35.88</td>\n",
       "      <td>38.359755</td>\n",
       "      <td>-2.479755</td>\n",
       "    </tr>\n",
       "    <tr>\n",
       "      <th>16</th>\n",
       "      <td>0.34</td>\n",
       "      <td>0.01</td>\n",
       "      <td>0.04</td>\n",
       "      <td>21.41</td>\n",
       "      <td>10.15</td>\n",
       "      <td>41.05</td>\n",
       "      <td>39.583729</td>\n",
       "      <td>1.466271</td>\n",
       "    </tr>\n",
       "    <tr>\n",
       "      <th>21</th>\n",
       "      <td>0.99</td>\n",
       "      <td>0.84</td>\n",
       "      <td>0.73</td>\n",
       "      <td>95.96</td>\n",
       "      <td>26.30</td>\n",
       "      <td>95.38</td>\n",
       "      <td>96.622927</td>\n",
       "      <td>-1.242927</td>\n",
       "    </tr>\n",
       "    <tr>\n",
       "      <th>138</th>\n",
       "      <td>0.00</td>\n",
       "      <td>0.00</td>\n",
       "      <td>0.00</td>\n",
       "      <td>26.75</td>\n",
       "      <td>16.38</td>\n",
       "      <td>28.97</td>\n",
       "      <td>25.184507</td>\n",
       "      <td>3.785493</td>\n",
       "    </tr>\n",
       "  </tbody>\n",
       "</table>\n",
       "</div>"
      ],
      "text/plain": [
       "       Pb    Cu    Cr    NOx    SO2    PM10  Fitted_value  Residual\n",
       "94   0.84  0.21  0.78  38.41  17.84  101.46     93.524209  7.935791\n",
       "131  0.11  0.22  0.19  21.46  17.72   35.88     38.359755 -2.479755\n",
       "16   0.34  0.01  0.04  21.41  10.15   41.05     39.583729  1.466271\n",
       "21   0.99  0.84  0.73  95.96  26.30   95.38     96.622927 -1.242927\n",
       "138  0.00  0.00  0.00  26.75  16.38   28.97     25.184507  3.785493"
      ]
     },
     "execution_count": 25,
     "metadata": {},
     "output_type": "execute_result"
    }
   ],
   "source": [
    "d1['Fitted_value']=model2.fittedvalues\n",
    "d1['Residual']=model2.resid\n",
    "d1.head()"
   ]
  },
  {
   "cell_type": "markdown",
   "id": "e3c52f03",
   "metadata": {},
   "source": [
    "# Linearity"
   ]
  },
  {
   "cell_type": "code",
   "execution_count": 26,
   "id": "35a3f198",
   "metadata": {},
   "outputs": [
    {
     "data": {
      "text/plain": [
       "<AxesSubplot:title={'center':'Relationship between Pb and PM10'}, xlabel='Pb', ylabel='PM10'>"
      ]
     },
     "execution_count": 26,
     "metadata": {},
     "output_type": "execute_result"
    },
    {
     "data": {
      "image/png": "[encoded data removed]",
      "text/plain": [
       "<Figure size 432x288 with 1 Axes>"
      ]
     },
     "metadata": {
      "needs_background": "light"
     },
     "output_type": "display_data"
    }
   ],
   "source": [
    "d1.plot.scatter(x='Pb',y='PM10',title='Relationship between Pb and PM10')"
   ]
  },
  {
   "cell_type": "markdown",
   "id": "1128e527",
   "metadata": {},
   "source": [
    "# Homoscedasicity"
   ]
  },
  {
   "cell_type": "code",
   "execution_count": 27,
   "id": "d8861ecf",
   "metadata": {},
   "outputs": [
    {
     "data": {
      "text/plain": [
       "<AxesSubplot:xlabel='Fitted_value', ylabel='Residual'>"
      ]
     },
     "execution_count": 27,
     "metadata": {},
     "output_type": "execute_result"
    },
    {
     "data": {
      "image/png": "[encoded data removed]",
      "text/plain": [
       "<Figure size 432x288 with 1 Axes>"
      ]
     },
     "metadata": {
      "needs_background": "light"
     },
     "output_type": "display_data"
    }
   ],
   "source": [
    "sns.scatterplot(x='Fitted_value',y='Residual',data=d1)"
   ]
  },
  {
   "cell_type": "markdown",
   "id": "4b741d72",
   "metadata": {},
   "source": [
    "# Normality"
   ]
  },
  {
   "cell_type": "code",
   "execution_count": 28,
   "id": "79348aca",
   "metadata": {},
   "outputs": [
    {
     "data": {
      "image/png": "[encoded data removed]",
      "text/plain": [
       "<Figure size 432x288 with 1 Axes>"
      ]
     },
     "metadata": {
      "needs_background": "light"
     },
     "output_type": "display_data"
    }
   ],
   "source": [
    "import statsmodels.api as sm\n",
    "fig = sm.qqplot(d1['Residual'], fit=True, line='s') # s indicate standardized line\n",
    "plt.show()"
   ]
  },
  {
   "cell_type": "markdown",
   "id": "bb2c1079",
   "metadata": {},
   "source": [
    "# Model error as IID"
   ]
  },
  {
   "cell_type": "code",
   "execution_count": 29,
   "id": "d937cf06",
   "metadata": {},
   "outputs": [
    {
     "data": {
      "text/plain": [
       "<AxesSubplot:ylabel='Frequency'>"
      ]
     },
     "execution_count": 29,
     "metadata": {},
     "output_type": "execute_result"
    },
    {
     "data": {
      "image/png": "[encoded data removed]",
      "text/plain": [
       "<Figure size 432x288 with 1 Axes>"
      ]
     },
     "metadata": {
      "needs_background": "light"
     },
     "output_type": "display_data"
    }
   ],
   "source": [
    "d1['Residual'].plot.hist()"
   ]
  },
  {
   "cell_type": "markdown",
   "id": "7531464a",
   "metadata": {},
   "source": [
    "# Prediction on test data"
   ]
  },
  {
   "cell_type": "code",
   "execution_count": 30,
   "id": "2f9660a7",
   "metadata": {},
   "outputs": [
    {
     "data": {
      "text/html": [
       "<div>\n",
       "<style scoped>\n",
       "    .dataframe tbody tr th:only-of-type {\n",
       "        vertical-align: middle;\n",
       "    }\n",
       "\n",
       "    .dataframe tbody tr th {\n",
       "        vertical-align: top;\n",
       "    }\n",
       "\n",
       "    .dataframe thead th {\n",
       "        text-align: right;\n",
       "    }\n",
       "</style>\n",
       "<table border=\"1\" class=\"dataframe\">\n",
       "  <thead>\n",
       "    <tr style=\"text-align: right;\">\n",
       "      <th></th>\n",
       "      <th>Pb</th>\n",
       "      <th>Cu</th>\n",
       "      <th>Cr</th>\n",
       "      <th>NOx</th>\n",
       "      <th>SO2</th>\n",
       "      <th>PM10</th>\n",
       "    </tr>\n",
       "  </thead>\n",
       "  <tbody>\n",
       "    <tr>\n",
       "      <th>99</th>\n",
       "      <td>2.0825</td>\n",
       "      <td>1.2775</td>\n",
       "      <td>1.3225</td>\n",
       "      <td>40.61</td>\n",
       "      <td>22.84</td>\n",
       "      <td>169.0425</td>\n",
       "    </tr>\n",
       "    <tr>\n",
       "      <th>137</th>\n",
       "      <td>0.0000</td>\n",
       "      <td>0.0000</td>\n",
       "      <td>0.0000</td>\n",
       "      <td>13.21</td>\n",
       "      <td>9.08</td>\n",
       "      <td>61.8900</td>\n",
       "    </tr>\n",
       "    <tr>\n",
       "      <th>20</th>\n",
       "      <td>1.9700</td>\n",
       "      <td>0.9800</td>\n",
       "      <td>0.8200</td>\n",
       "      <td>87.73</td>\n",
       "      <td>32.14</td>\n",
       "      <td>110.4100</td>\n",
       "    </tr>\n",
       "    <tr>\n",
       "      <th>56</th>\n",
       "      <td>0.9800</td>\n",
       "      <td>0.0200</td>\n",
       "      <td>0.1900</td>\n",
       "      <td>49.19</td>\n",
       "      <td>29.14</td>\n",
       "      <td>97.0900</td>\n",
       "    </tr>\n",
       "    <tr>\n",
       "      <th>147</th>\n",
       "      <td>0.1000</td>\n",
       "      <td>0.0300</td>\n",
       "      <td>0.0900</td>\n",
       "      <td>47.56</td>\n",
       "      <td>24.14</td>\n",
       "      <td>40.3800</td>\n",
       "    </tr>\n",
       "  </tbody>\n",
       "</table>\n",
       "</div>"
      ],
      "text/plain": [
       "         Pb      Cu      Cr    NOx    SO2      PM10\n",
       "99   2.0825  1.2775  1.3225  40.61  22.84  169.0425\n",
       "137  0.0000  0.0000  0.0000  13.21   9.08   61.8900\n",
       "20   1.9700  0.9800  0.8200  87.73  32.14  110.4100\n",
       "56   0.9800  0.0200  0.1900  49.19  29.14   97.0900\n",
       "147  0.1000  0.0300  0.0900  47.56  24.14   40.3800"
      ]
     },
     "execution_count": 30,
     "metadata": {},
     "output_type": "execute_result"
    }
   ],
   "source": [
    "d1_test=pd.concat([X_test,y_test],axis=1)\n",
    "d1_test.head()"
   ]
  },
  {
   "cell_type": "code",
   "execution_count": 31,
   "id": "613a40d6",
   "metadata": {},
   "outputs": [
    {
     "data": {
      "text/html": [
       "<div>\n",
       "<style scoped>\n",
       "    .dataframe tbody tr th:only-of-type {\n",
       "        vertical-align: middle;\n",
       "    }\n",
       "\n",
       "    .dataframe tbody tr th {\n",
       "        vertical-align: top;\n",
       "    }\n",
       "\n",
       "    .dataframe thead th {\n",
       "        text-align: right;\n",
       "    }\n",
       "</style>\n",
       "<table border=\"1\" class=\"dataframe\">\n",
       "  <thead>\n",
       "    <tr style=\"text-align: right;\">\n",
       "      <th></th>\n",
       "      <th>Pb</th>\n",
       "      <th>Cu</th>\n",
       "      <th>Cr</th>\n",
       "      <th>NOx</th>\n",
       "      <th>SO2</th>\n",
       "      <th>PM10</th>\n",
       "      <th>Prediction</th>\n",
       "    </tr>\n",
       "  </thead>\n",
       "  <tbody>\n",
       "    <tr>\n",
       "      <th>99</th>\n",
       "      <td>2.0825</td>\n",
       "      <td>1.2775</td>\n",
       "      <td>1.3225</td>\n",
       "      <td>40.61</td>\n",
       "      <td>22.84</td>\n",
       "      <td>169.0425</td>\n",
       "      <td>165.208385</td>\n",
       "    </tr>\n",
       "    <tr>\n",
       "      <th>137</th>\n",
       "      <td>0.0000</td>\n",
       "      <td>0.0000</td>\n",
       "      <td>0.0000</td>\n",
       "      <td>13.21</td>\n",
       "      <td>9.08</td>\n",
       "      <td>61.8900</td>\n",
       "      <td>25.184507</td>\n",
       "    </tr>\n",
       "    <tr>\n",
       "      <th>20</th>\n",
       "      <td>1.9700</td>\n",
       "      <td>0.9800</td>\n",
       "      <td>0.8200</td>\n",
       "      <td>87.73</td>\n",
       "      <td>32.14</td>\n",
       "      <td>110.4100</td>\n",
       "      <td>136.909899</td>\n",
       "    </tr>\n",
       "    <tr>\n",
       "      <th>56</th>\n",
       "      <td>0.9800</td>\n",
       "      <td>0.0200</td>\n",
       "      <td>0.1900</td>\n",
       "      <td>49.19</td>\n",
       "      <td>29.14</td>\n",
       "      <td>97.0900</td>\n",
       "      <td>70.281561</td>\n",
       "    </tr>\n",
       "    <tr>\n",
       "      <th>147</th>\n",
       "      <td>0.1000</td>\n",
       "      <td>0.0300</td>\n",
       "      <td>0.0900</td>\n",
       "      <td>47.56</td>\n",
       "      <td>24.14</td>\n",
       "      <td>40.3800</td>\n",
       "      <td>33.182754</td>\n",
       "    </tr>\n",
       "  </tbody>\n",
       "</table>\n",
       "</div>"
      ],
      "text/plain": [
       "         Pb      Cu      Cr    NOx    SO2      PM10  Prediction\n",
       "99   2.0825  1.2775  1.3225  40.61  22.84  169.0425  165.208385\n",
       "137  0.0000  0.0000  0.0000  13.21   9.08   61.8900   25.184507\n",
       "20   1.9700  0.9800  0.8200  87.73  32.14  110.4100  136.909899\n",
       "56   0.9800  0.0200  0.1900  49.19  29.14   97.0900   70.281561\n",
       "147  0.1000  0.0300  0.0900  47.56  24.14   40.3800   33.182754"
      ]
     },
     "execution_count": 31,
     "metadata": {},
     "output_type": "execute_result"
    }
   ],
   "source": [
    "d1_test['Prediction']=model2.predict(d1_test)\n",
    "d1_test.head()"
   ]
  },
  {
   "cell_type": "markdown",
   "id": "bab183ff",
   "metadata": {},
   "source": [
    "# Completed"
   ]
  }
 ],
 "metadata": {
  "kernelspec": {
   "display_name": "Python 3 (ipykernel)",
   "language": "python",
   "name": "python3"
  },
  "language_info": {
   "codemirror_mode": {
    "name": "ipython",
    "version": 3
   },
   "file_extension": ".py",
   "mimetype": "text/x-python",
   "name": "python",
   "nbconvert_exporter": "python",
   "pygments_lexer": "ipython3",
   "version": "3.9.7"
  }
 },
 "nbformat": 4,
 "nbformat_minor": 5
}
